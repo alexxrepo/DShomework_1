{
 "cells": [
  {
   "attachments": {},
   "cell_type": "markdown",
   "id": "842aa906-06c8-4b30-a124-125bdc1812ba",
   "metadata": {},
   "source": [
    "**Задание 1: Создать кортеж, содержащий 4 разных числа. Вывести на экран значение второго элемента кортежа.**"
   ]
  },
  {
   "cell_type": "code",
   "execution_count": 84,
   "id": "46db2e2a-c67b-49fb-afad-316a2fb156b3",
   "metadata": {},
   "outputs": [
    {
     "name": "stdout",
     "output_type": "stream",
     "text": [
      "Второй элемент кортежа: 7\n"
     ]
    }
   ],
   "source": [
    "t = (5,7,9,10)\n",
    "\n",
    "print(\"Второй элемент кортежа:\",t[1]) # Сложность алгоритма - O(1)"
   ]
  },
  {
   "cell_type": "markdown",
   "id": "978038da-2e35-4723-8728-e233e63396c6",
   "metadata": {},
   "source": [
    "**Задание 2: Написать программу, которая принимает строку от пользователя и выводит количество символов в этой строке.**"
   ]
  },
  {
   "cell_type": "code",
   "execution_count": 86,
   "id": "8e720b33-7f08-478a-964f-5f5f3aea6e3a",
   "metadata": {},
   "outputs": [
    {
     "name": "stdin",
     "output_type": "stream",
     "text": [
      "Введите любые данные:  Добрый день!\n"
     ]
    },
    {
     "name": "stdout",
     "output_type": "stream",
     "text": [
      "Данная строка состоит из 12 символов.\n"
     ]
    }
   ],
   "source": [
    "string = input(\"Введите любые данные: \")\n",
    "\n",
    "print(\"Данная строка состоит из\", len(string), \"символов.\") # Сложность алгоритма - O(1)"
   ]
  },
  {
   "cell_type": "markdown",
   "id": "2435ea15-0b03-4c95-b676-e0d3e6cecf6b",
   "metadata": {},
   "source": [
    "**Задание 3: Создать словарь, содержащий информацию о студенте: имя, возраст, курс. Вывести всю информацию о студенте на экран.**"
   ]
  },
  {
   "cell_type": "code",
   "execution_count": 12,
   "id": "1647783b-e9c9-461a-a5da-ceb3d674a59f",
   "metadata": {},
   "outputs": [
    {
     "name": "stdout",
     "output_type": "stream",
     "text": [
      "Имя: Марк\n",
      "Возраст: 19\n",
      "Курс: 2\n"
     ]
    }
   ],
   "source": [
    "student_data = {'Имя': 'Марк', 'Возраст': 19, 'Курс': 2}\n",
    "\n",
    "for key, value in student_data.items():\n",
    "    print(f'{key}: {value}') # Сложность алгоритма - О(n)"
   ]
  },
  {
   "attachments": {},
   "cell_type": "markdown",
   "id": "cc6ba958-96aa-4353-8ef3-0c4a55296ce2",
   "metadata": {},
   "source": [
    "**Задание 4: Используя цикл, создать список, содержащий все целые числа от 1 до 10, и вывести его на экран.**"
   ]
  },
  {
   "cell_type": "code",
   "execution_count": 14,
   "id": "8dad3184-e5f2-4f9f-b416-1e070a05eed3",
   "metadata": {},
   "outputs": [
    {
     "name": "stdout",
     "output_type": "stream",
     "text": [
      "[1, 2, 3, 4, 5, 6, 7, 8, 9, 10]\n"
     ]
    }
   ],
   "source": [
    "my_list = list()\n",
    "\n",
    "for i in range(1,11):\n",
    "    my_list.append(i)\n",
    "\n",
    "print(my_list) # Сложность алгоритма - O(n)"
   ]
  },
  {
   "attachments": {},
   "cell_type": "markdown",
   "id": "24428312-bcaa-4963-971a-d3731822446b",
   "metadata": {},
   "source": [
    "**Задание 5: Написать функцию, которая принимает список чисел и возвращает их сумму.**"
   ]
  },
  {
   "cell_type": "code",
   "execution_count": 18,
   "id": "657b608a-66be-4cf3-a257-9c6634bc5476",
   "metadata": {},
   "outputs": [
    {
     "name": "stdout",
     "output_type": "stream",
     "text": [
      "Сумма: 55\n"
     ]
    }
   ],
   "source": [
    "def numbers_sum(numbers):\n",
    "    return sum(numbers)\n",
    "\n",
    "numbers = [1,2,3,4,5,6,7,8,9,10]\n",
    "result = numbers_sum(numbers)\n",
    "print(\"Сумма:\",result) # Сложность алгоритма - O(n)"
   ]
  },
  {
   "attachments": {},
   "cell_type": "markdown",
   "id": "dd3d4025-e56b-4bf6-8978-b57106daa626",
   "metadata": {},
   "source": [
    "**Задание 6: Создать множество из 5 разных чисел, затем добавить в него новое число и вывести на экран.**"
   ]
  },
  {
   "cell_type": "code",
   "execution_count": 26,
   "id": "5169782a-bc8c-42d8-9a9b-25cef9b9f38f",
   "metadata": {},
   "outputs": [
    {
     "name": "stdout",
     "output_type": "stream",
     "text": [
      "{99, 101, 21, 87, 58, 46, 15}\n"
     ]
    }
   ],
   "source": [
    "number_set = {101,21,58,15,87,46}\n",
    "number_set.add(99)\n",
    "print(number_set) # Сложность алгоритма - O(1)"
   ]
  },
  {
   "attachments": {},
   "cell_type": "markdown",
   "id": "d84bb5a2-46da-4606-a9ac-fad989dfaa50",
   "metadata": {},
   "source": [
    "**Задание 7: Написать программу, которая принимает от пользователя целое число и выводит на экран его квадрат.**"
   ]
  },
  {
   "cell_type": "code",
   "execution_count": 30,
   "id": "8051e4a9-a254-43a6-957d-8e6c67a4651a",
   "metadata": {},
   "outputs": [
    {
     "name": "stdin",
     "output_type": "stream",
     "text": [
      "Число:  5\n"
     ]
    },
    {
     "name": "stdout",
     "output_type": "stream",
     "text": [
      "Квадрат числа: 25\n"
     ]
    }
   ],
   "source": [
    "number = int(input(\"Число: \"))\n",
    "print(\"Квадрат числа:\", number ** 2) # Сложность алгоритма - O(1)"
   ]
  },
  {
   "attachments": {},
   "cell_type": "markdown",
   "id": "11dd5de7-74b5-40b8-bf83-531ebac16604",
   "metadata": {},
   "source": [
    "**Задание 8: Создать словарь с пятью парами «ключ-значение», где ключи - названия фруктов, а значения - их цвета. Вывести значения всех ключей.**"
   ]
  },
  {
   "cell_type": "code",
   "execution_count": 34,
   "id": "6fe59759-8ca0-4be8-97f6-33b437c28f27",
   "metadata": {},
   "outputs": [
    {
     "name": "stdout",
     "output_type": "stream",
     "text": [
      "Апельсин\n",
      "Лимон\n",
      "Яблоко\n",
      "Клубника\n",
      "Слива\n"
     ]
    }
   ],
   "source": [
    "fruits_colors = {\"Апельсин\": \"Оранжевый\", \"Лимон\": \"Желтый\", \"Яблоко\": \"Зеленый\", \"Клубника\": \"Красный\", \"Слива\": \"Фиолетовый\"}\n",
    "for key, value in fruits_colors.items():\n",
    "    print(key) # Сложность алгоритма - O(n)"
   ]
  },
  {
   "attachments": {},
   "cell_type": "markdown",
   "id": "7677b66c-cac0-4878-b22f-41df4ac99fe5",
   "metadata": {},
   "source": [
    "**Задание 9: Написать функцию, которая принимает строку и выводит ее в обратном порядке.**"
   ]
  },
  {
   "cell_type": "code",
   "execution_count": 110,
   "id": "180f5fab-c350-4715-9b36-7a3865e4318f",
   "metadata": {},
   "outputs": [
    {
     "name": "stdin",
     "output_type": "stream",
     "text": [
      "String:  Hello!\n"
     ]
    },
    {
     "name": "stdout",
     "output_type": "stream",
     "text": [
      "!olleH\n"
     ]
    }
   ],
   "source": [
    "string = input(\"String: \")\n",
    "\n",
    "def reverse(string):\n",
    "    reverse_string = ''\n",
    "    index = len(string)\n",
    "    while index > 0:\n",
    "        reverse_string = reverse_string + string[index - 1]\n",
    "        index = index - 1\n",
    "    \n",
    "    return reverse_string\n",
    "\n",
    "print(reverse(string)) # Сложность алгоритма - O(n)"
   ]
  },
  {
   "attachments": {},
   "cell_type": "markdown",
   "id": "363799ec-9cf9-4570-9516-1495304eb903",
   "metadata": {},
   "source": [
    "**Задание 10: Создать список из 5 строк и заменить в нем третий элемент на новую строку.**"
   ]
  },
  {
   "cell_type": "code",
   "execution_count": null,
   "id": "f68279c6-ea06-4289-af23-947ed41b9123",
   "metadata": {},
   "outputs": [],
   "source": [
    "string_list = [\"cat\", \"dog\", \"house\", \"chicken\", \"mouse\"]\n",
    "string_list[2] = \"cow\"\n",
    "\n",
    "print(string_list) # Сложность алгоритма - O(1)"
   ]
  },
  {
   "attachments": {},
   "cell_type": "markdown",
   "id": "888c9f84-fb0a-4280-947f-b7649d4c1f26",
   "metadata": {},
   "source": [
    "**Задание 11: Создать кортеж из 6 элементов разных типов данных и вывести на экран тип каждого элемента.**"
   ]
  },
  {
   "cell_type": "code",
   "execution_count": 38,
   "id": "d60335bb-22be-4b99-ab2c-bb4566efb3b5",
   "metadata": {},
   "outputs": [
    {
     "name": "stdout",
     "output_type": "stream",
     "text": [
      "<class 'str'>\n",
      "<class 'int'>\n",
      "<class 'float'>\n",
      "<class 'bool'>\n",
      "<class 'set'>\n",
      "<class 'dict'>\n"
     ]
    }
   ],
   "source": [
    "my_tuple = (\"dog\", 6, 18.9, True, {1,3,5},{\"Operation System\": \"MacOS\", \"Programming Language\": \"Python\"})\n",
    "\n",
    "for element in my_tuple:\n",
    "    print(type(element)) # Сложность алгоритма - O(n)"
   ]
  },
  {
   "attachments": {},
   "cell_type": "markdown",
   "id": "2b54ea88-70ed-4784-a960-76f3acc7f897",
   "metadata": {},
   "source": [
    "**Задание 12: Написать программу, которая принимает от пользователя два числа и выводит их произведение.**"
   ]
  },
  {
   "cell_type": "code",
   "execution_count": 44,
   "id": "3f81ce3d-5ce5-4b0b-9d3e-98f5095480d1",
   "metadata": {},
   "outputs": [
    {
     "name": "stdin",
     "output_type": "stream",
     "text": [
      "Число 1:  6\n",
      "Число 2:  10\n"
     ]
    },
    {
     "name": "stdout",
     "output_type": "stream",
     "text": [
      "Произведение: 60\n"
     ]
    }
   ],
   "source": [
    "number1 = int(input(\"Число 1: \"))\n",
    "number2 = int(input(\"Число 2: \"))\n",
    "\n",
    "print(\"Произведение:\", number1 * number2) # Сложность алгоритма - O(1)"
   ]
  },
  {
   "attachments": {},
   "cell_type": "markdown",
   "id": "f5c9eaba-5444-4e0f-b0e9-be12ee1c75cd",
   "metadata": {},
   "source": [
    "**Задание 13: Создать словарь, содержащий информацию о книге (автор, название, год издания), и вывести эту информацию на экран.**"
   ]
  },
  {
   "cell_type": "code",
   "execution_count": 52,
   "id": "5b6320f0-ee16-4e96-86a2-b617e89a8826",
   "metadata": {},
   "outputs": [
    {
     "name": "stdout",
     "output_type": "stream",
     "text": [
      "Автор: Джоэл Грас\n",
      "Название: Наука данных с нуля (2-е издание)\n",
      "Год издания: 2024\n"
     ]
    }
   ],
   "source": [
    "book_info = {\"Автор\": \"Джоэл Грас\", \"Название\": \"Наука данных с нуля (2-е издание)\", \"Год издания\": \"2024\"}\n",
    "\n",
    "for key, value in book_info.items():\n",
    "    print(f'{key}: {value}') # Cложность алгоритма - O(n)"
   ]
  },
  {
   "attachments": {},
   "cell_type": "markdown",
   "id": "1c18b144-4740-42b0-b115-8aa8c08ebbf9",
   "metadata": {},
   "source": [
    "**Задание 14: Создать множество, содержащее названия 5 разных городов, затем удалить одно название и вывести оставшиеся.**"
   ]
  },
  {
   "cell_type": "code",
   "execution_count": 56,
   "id": "ba6b7c9c-260b-471f-bd04-48f3368941c3",
   "metadata": {},
   "outputs": [
    {
     "name": "stdout",
     "output_type": "stream",
     "text": [
      "{'Брест', 'Минск', 'Гродно', 'Гомель'}\n"
     ]
    }
   ],
   "source": [
    "city_set = {\"Минск\", \"Брест\", \"Гродно\", \"Гомель\", \"Полоцк\"}\n",
    "city_set.remove(\"Полоцк\")\n",
    "print(city_set) # Сложность алгоритма O(n)\n",
    "\n"
   ]
  },
  {
   "attachments": {},
   "cell_type": "markdown",
   "id": "6c7f01b1-f3c7-46e6-b213-60057fe38109",
   "metadata": {},
   "source": [
    "**Задание 15: Написать функцию, которая принимает список чисел и возвращает максимальное из них.**"
   ]
  },
  {
   "cell_type": "code",
   "execution_count": 146,
   "id": "ce4237c2-1b00-4156-a71d-4b587e72c425",
   "metadata": {},
   "outputs": [
    {
     "name": "stdout",
     "output_type": "stream",
     "text": [
      "99\n"
     ]
    }
   ],
   "source": [
    "lst = [21,23,19,22,51,1,4,54,67,99,2,5,7]\n",
    "\n",
    "def largest_value(lst):\n",
    "    max_number = 0\n",
    "    for number in lst:\n",
    "        if number > max_number:\n",
    "            max_number = number\n",
    "    return(max_number)\n",
    "\n",
    "print(largest_value(lst)) # Сложность алгоритма - O(n)"
   ]
  },
  {
   "attachments": {},
   "cell_type": "markdown",
   "id": "7558b758-099d-4638-b13b-b08e94aaf045",
   "metadata": {},
   "source": [
    "**Задание 16: Создать список чисел от 1 до 20, а затем создать новый список, содержащий только четные числа из первого списка.**"
   ]
  },
  {
   "cell_type": "code",
   "execution_count": 80,
   "id": "0f596365-6779-4bc7-bd72-9b8d35d68d1c",
   "metadata": {},
   "outputs": [
    {
     "name": "stdout",
     "output_type": "stream",
     "text": [
      "[2, 4, 6, 8, 10, 12, 14, 16, 18, 20]\n"
     ]
    }
   ],
   "source": [
    "number_list = list(range(1,21))\n",
    "even_number_list = []\n",
    "\n",
    "for number in number_list:\n",
    "    if number % 2 == 0:\n",
    "        even_number_list.append(number)\n",
    "\n",
    "print(even_number_list) # Сложность алгоритма - O(n)"
   ]
  },
  {
   "attachments": {},
   "cell_type": "markdown",
   "id": "b3c041f2-4293-4f9e-8e1e-e8e71c62b087",
   "metadata": {},
   "source": [
    "**Задание 17: Написать программу, которая принимает от пользователя строку и выводит True, если строка является палиндромом, и False в противном случае.**"
   ]
  },
  {
   "cell_type": "code",
   "execution_count": 162,
   "id": "440dca32-be17-462a-a43b-a6729513b018",
   "metadata": {},
   "outputs": [
    {
     "name": "stdin",
     "output_type": "stream",
     "text": [
      "String:  abba\n"
     ]
    },
    {
     "name": "stdout",
     "output_type": "stream",
     "text": [
      "True\n"
     ]
    }
   ],
   "source": [
    "def palindrome(string):\n",
    "    reverse_str = ''\n",
    "    index = len(string)\n",
    "    while index > 0:\n",
    "        reverse_str = reverse_str + string[index - 1]\n",
    "        index = index - 1\n",
    "    if reverse_str == string:\n",
    "        return True\n",
    "    else:\n",
    "        return False\n",
    "\n",
    "string = input(\"String: \")\n",
    "\n",
    "print(palindrome(string)) # Сложность алгоритма - O(n)"
   ]
  },
  {
   "attachments": {},
   "cell_type": "markdown",
   "id": "a3cbbb41-13b4-4d4e-bc97-a7036bff331e",
   "metadata": {},
   "source": [
    "**Задание 18: Создать кортеж, содержащий 3 элемента различных типов данных, и распаковать его в отдельные переменные.**"
   ]
  },
  {
   "cell_type": "code",
   "execution_count": 70,
   "id": "73114f91-c09f-412e-a589-0e27342f2db4",
   "metadata": {},
   "outputs": [
    {
     "name": "stdout",
     "output_type": "stream",
     "text": [
      "1 True cat\n"
     ]
    }
   ],
   "source": [
    "my_tuple = (1, True, \"cat\")\n",
    "\n",
    "integer, boolean, string = my_tuple\n",
    "\n",
    "print(integer, boolean, string) # Сложность алгоритма - O(1)\n",
    "\n"
   ]
  },
  {
   "attachments": {},
   "cell_type": "markdown",
   "id": "bf6b4b13-6bd6-41c9-94b5-2d0287e7744d",
   "metadata": {},
   "source": [
    "**Задание 19: Написать функцию, которая принимает словарь с информацией о студенте (имя, возраст, курс) и выводит эту информацию в форматированном виде.**"
   ]
  },
  {
   "cell_type": "code",
   "execution_count": 180,
   "id": "fbda2172-acaa-4367-baab-27703e5f1257",
   "metadata": {},
   "outputs": [
    {
     "name": "stdout",
     "output_type": "stream",
     "text": [
      "Имя: Марк\n",
      "Возраст: 19\n",
      "Курс: 2\n"
     ]
    }
   ],
   "source": [
    "def format_info(student_info):\n",
    "    formatted_info = ''\n",
    "    for key, value in student_info.items():\n",
    "        print(f'{key}: {value}')\n",
    "\n",
    "student_info = {'Имя': 'Марк', 'Возраст': 19, 'Курс': 2}\n",
    "\n",
    "format_info(student_info) # Сложность алгоритма - O(n)"
   ]
  },
  {
   "attachments": {},
   "cell_type": "markdown",
   "id": "c51d9d73-9cab-499e-9928-3f0603eaa493",
   "metadata": {},
   "source": [
    "**Задание 20: Создать список и добавить в него 5 различных элементов. Вывести содержимое списка на экран.**"
   ]
  },
  {
   "cell_type": "code",
   "execution_count": 64,
   "id": "3aa3de23-7503-4770-aaf8-2df2ffbba6ce",
   "metadata": {},
   "outputs": [
    {
     "name": "stdout",
     "output_type": "stream",
     "text": [
      "[5, 7, 9, 'car', 'dog']\n"
     ]
    }
   ],
   "source": [
    "my_list = []\n",
    "my_list.append(5)\n",
    "my_list.append(7)\n",
    "my_list.append(9)\n",
    "my_list.append(\"car\")\n",
    "my_list.append(\"dog\")\n",
    "print(my_list) # Сложность алгоритма - O(n)"
   ]
  }
 ],
 "metadata": {
  "kernelspec": {
   "display_name": "Python 3 (ipykernel)",
   "language": "python",
   "name": "python3"
  },
  "language_info": {
   "codemirror_mode": {
    "name": "ipython",
    "version": 3
   },
   "file_extension": ".py",
   "mimetype": "text/x-python",
   "name": "python",
   "nbconvert_exporter": "python",
   "pygments_lexer": "ipython3",
   "version": "3.12.7"
  }
 },
 "nbformat": 4,
 "nbformat_minor": 5
}
